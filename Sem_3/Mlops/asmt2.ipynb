{
 "cells": [
  {
   "cell_type": "markdown",
   "source": [
    "# Explainable AI"
   ],
   "metadata": {
    "collapsed": false
   }
  },
  {
   "cell_type": "raw",
   "source": [
    "1.Data Collection and Preprocessing (4 Marks):\n",
    "•Task: Select an appropriate dataset and perform data preprocessing, including data cleaning, feature engineering, and scaling/normalization.\n",
    "•Details: Explain the choices made during preprocessing and how they impact the model. Use KizenML or other tools for AutoEDA if applicable.\n",
    "•Marks: 4 Marks\n"
   ],
   "metadata": {
    "collapsed": false
   }
  },
  {
   "cell_type": "code",
   "execution_count": null,
   "outputs": [],
   "source": [],
   "metadata": {
    "collapsed": false
   }
  }
 ],
 "metadata": {
  "kernelspec": {
   "display_name": "Python 3",
   "language": "python",
   "name": "python3"
  },
  "language_info": {
   "codemirror_mode": {
    "name": "ipython",
    "version": 2
   },
   "file_extension": ".py",
   "mimetype": "text/x-python",
   "name": "python",
   "nbconvert_exporter": "python",
   "pygments_lexer": "ipython2",
   "version": "2.7.6"
  }
 },
 "nbformat": 4,
 "nbformat_minor": 0
}
